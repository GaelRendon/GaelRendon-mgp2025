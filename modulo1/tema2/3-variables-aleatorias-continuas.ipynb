{
 "cells": [
  {
   "cell_type": "markdown",
   "metadata": {},
   "source": [
    "# Variables Aleatorias Continuas\n",
    "\n",
    "<img style=\"float: right; margin: 0px 0px 15px 15px;\" src=\"https://storage.needpix.com/rsynced_images/bayesian-2889576_1280.png\" width=\"200px\" height=\"180px\" />\n",
    "\n",
    "> Ahora, centremos nuestra atención en VA continuas.\n",
    "\n",
    "> A diferencia de las VA discretas, las VA continuas toman valores en un conjunto continuo de valores. Computacionalmente, saltar de discreto a continuo supone reemplazar sumas por integrales.\n",
    "\n",
    "\n",
    "> **Objetivos:**\n",
    "> - Repasar la definición de variables aleatorias continuas.\n",
    "> - Definir la función de densidad de probabilidad y la función de distribución acumulada.\n",
    "> - Definir el valor esperado (media) de una VA discreta.\n",
    "\n",
    "\n",
    "> **Referencias:**\n",
    "> \n",
    "> - Pattern Recognition and Machine Learning, by Christopher M. Bishop. Cap 1.2.\n",
    "> - https://ocw.mit.edu/courses/18-05-introduction-to-probability-and-statistics-spring-2022/mit18_05_s22_probability.pdf\n",
    "\n",
    "\n",
    "<p style=\"text-align:right;\"> Imagen recuperada de: https://storage.needpix.com/rsynced_images/bayesian-2889576_1280.png.</p>\n",
    "\n",
    "___"
   ]
  },
  {
   "cell_type": "markdown",
   "metadata": {},
   "source": [
    "## 1. Variables aleatorias continuas"
   ]
  },
  {
   "cell_type": "markdown",
   "metadata": {},
   "source": [
    "También podemos definir probabilidades respecto a **V.A. continuas**\n",
    "\n",
    "![thermo](https://upload.wikimedia.org/wikipedia/commons/e/e0/Thermometer_-_by_Don.jpg)\n",
    "\n",
    "- Las variables aleatorias continuas son aquellas que pueden tomar un valores en rangos continuos (subconjuntos de $\\mathbb{R}$).\n",
    "\n",
    "- Un ejemplo de un fenómeno que podemos modelar con una VA continua es la temperatura del presente día.\n",
    "\n",
    "- En este caso, la manera más conveniente de definir una distribución continua de probabilidad es a través de la Función de Densidad de Probabilidad (PDF - Probability Density Function), la cual asigna un valor no negativo de densidad de probabilidad para cada valor real.\n",
    "\n",
    "- Como ejemplo, tomamos la distribución normal $X \\sim \\mathcal{N}(\\mu, \\sigma^2)$:\n",
    "  $$\n",
    "  p(x) = \\frac{1}{\\sqrt{2 \\pi \\sigma^2}} \\exp\\left\\{-\\frac{(x - \\mu)^2}{2 \\sigma^2}\\right\\}.\n",
    "  $$"
   ]
  },
  {
   "cell_type": "code",
   "execution_count": null,
   "metadata": {},
   "outputs": [],
   "source": [
    "# Importar numpy\n",
    "\n",
    "# Importar stats de scipy\n",
    "\n",
    "# Importar pyplot\n"
   ]
  },
  {
   "cell_type": "code",
   "execution_count": null,
   "metadata": {},
   "outputs": [],
   "source": [
    "# Definir una VA normal para la temperatura\n",
    "\n",
    "# Densidad normal\n"
   ]
  },
  {
   "cell_type": "code",
   "execution_count": null,
   "metadata": {},
   "outputs": [],
   "source": [
    "# Graficar\n"
   ]
  },
  {
   "cell_type": "markdown",
   "metadata": {},
   "source": [
    "En el contexto de V.A. continuas no hablamos de función de probabilidad, sino de una **función de densidad de probabilidad p.d.f.** $p(x)$ que debe cumplir\n",
    "\n",
    "$$\n",
    "p(x) \\geq 0\n",
    "$$\n",
    "\n",
    "y\n",
    "\n",
    "$$\n",
    "\\int_{-\\infty}^{\\infty} p(x) \\mathrm{d}x = 1.\n",
    "$$\n",
    "\n",
    "Notemos que en este caso la densidad puede ser mayor a $1$."
   ]
  },
  {
   "cell_type": "markdown",
   "metadata": {},
   "source": [
    "Con esto, la probabilidad de que $a \\leq X \\leq b$ es:\n",
    "\n",
    "$$\n",
    "p(a \\leq X \\leq b) = \\int_{a}^{b} p(x) \\mathrm{d}x\n",
    "$$"
   ]
  },
  {
   "cell_type": "markdown",
   "metadata": {},
   "source": [
    "Definimos también la **función de probabilidad acumulada c.d.f.** P(x) como:\n",
    "\n",
    "$$\n",
    "P(x) = \\int_{-\\infty}^{x} p(z) \\mathrm{d}z,\n",
    "$$\n",
    "\n",
    "y respresenta la probabilidad de que $-\\infty < X < x$. Por el teorema fundamental del cálculo $P'(x) = p(x)$."
   ]
  },
  {
   "cell_type": "code",
   "execution_count": null,
   "metadata": {},
   "outputs": [],
   "source": [
    "# Verifiquemos lo anterior\n"
   ]
  },
  {
   "cell_type": "markdown",
   "metadata": {},
   "source": [
    "> **Observaciones.** Todo lo que vimos en el caso discreto se extiende al caso continuo:\n",
    ">\n",
    "> - La marginalización, la regla de la cadena, la regla de Bayes, aplican cambiando sumas por integrales y probabilidades por densidades de probabilidad:\n",
    ">    - $p(x) = \\int_{-\\infty}^{\\infty} p(x, y) \\mathrm{d}y$: Marginalización\n",
    ">    - $p(x, y) = p(y | x) p(x) = p(x | y) p(y)$: Regla de la cadena\n",
    ">    - $p(x) = \\int_{-\\infty}^{\\infty} p(x | y) p(y) \\mathrm{d}y$: Probabilidad total"
   ]
  },
  {
   "cell_type": "markdown",
   "metadata": {},
   "source": [
    "## 2. Distribuciones específicas\n",
    "\n",
    "Veamos algunas distribuciones continuas fundamentales. Estas serán de mucha utilidad más adelante.\n",
    "\n",
    "Para cada una, veremos el soporte, la densidad, la distribución acumulada y una descripción corta de lo que modelan."
   ]
  },
  {
   "cell_type": "markdown",
   "metadata": {},
   "source": [
    "### 2.1. Distribución uniforme\n",
    "\n",
    "1. Parámetros: $a,b$\n",
    "2. Soporte: $[a, b]$\n",
    "3. Notación: $\\text{Uniform}(a,b)$\n",
    "4. pdf:\n",
    "  $$\n",
    "  p(x)=\\frac{1}{b - a} \\qquad \\text{for } a\\leq x\\leq b.\n",
    "  $$\n",
    "5. cdf:\n",
    "  $$\n",
    "  P(x)=\\frac{x-a}{b-a}  \\qquad \\text{for } a\\leq x\\leq b.\n",
    "  $$\n",
    "6. Modela situaciones donde todos los resultados en el soporte tienen igual probabilidad.\n",
    "\n",
    "**Ejemplo.** Se tiene una cinta de medir con resolución milimétrica. Si medimos la longitud de una varillas que fueron cortadas a 1 metro de longitud, el error de medición estará uniformemente distribuido entre -0.5 y 0.5 milímetros."
   ]
  },
  {
   "cell_type": "code",
   "execution_count": null,
   "metadata": {},
   "outputs": [],
   "source": [
    "# Variable aleatoria uniforme\n"
   ]
  },
  {
   "cell_type": "code",
   "execution_count": null,
   "metadata": {},
   "outputs": [],
   "source": []
  },
  {
   "cell_type": "code",
   "execution_count": null,
   "metadata": {},
   "outputs": [],
   "source": [
    "# Gráfico de pdf y cdf\n"
   ]
  },
  {
   "cell_type": "markdown",
   "metadata": {},
   "source": [
    "\n",
    "📌 **Características clave:**\n",
    "- Todos los valores entre \\(a\\) y \\(b\\) son igualmente probables.\n",
    "- Gráfica: línea horizontal constante en el intervalo.\n",
    "- Ejemplos: temperatura constante en un rango, generadores de números aleatorios.\n",
    "\n",
    "**Pistas para identificarla:**\n",
    "- Existe un **mínimo y máximo definidos**.\n",
    "- No hay tendencia hacia un valor central.\n"
   ]
  },
  {
   "cell_type": "markdown",
   "metadata": {},
   "source": [
    "### 2.2. Distribución exponencial\n",
    "\n",
    "1. Parámetro $\\lambda$.\n",
    "2. Soporte $[0, \\infty)$.\n",
    "3. Notación $\\text{Exponential}(\\lambda)$.\n",
    "4. pdf:\n",
    "   $$\n",
    "   p(x) = \\lambda e^{-\\lambda x} \\qquad \\text{for } x \\geq 0.\n",
    "   $$\n",
    "5. cdf:\n",
    "   $$\n",
    "   P(x) = 1 - e^{-\\lambda x} \\qquad \\text{for } x \\geq 0.\n",
    "   $$\n",
    "6. Modela el tiempo de espera de un proceso continuo para cambiar de estado.\n",
    "\n",
    "**Ejemplo.** Si salen del iteso para tomar un taxi en el Periférico, el tiempo de espera en minutos distribuye exponencialmente. Una buena estimación para $\\lambda$ en este caso está dada por $\\frac{1}{\\text{tiempo de espera promedio}}$."
   ]
  },
  {
   "cell_type": "code",
   "execution_count": null,
   "metadata": {},
   "outputs": [],
   "source": [
    "# Parámetro lambda\n"
   ]
  },
  {
   "cell_type": "code",
   "execution_count": null,
   "metadata": {},
   "outputs": [],
   "source": []
  },
  {
   "cell_type": "code",
   "execution_count": null,
   "metadata": {},
   "outputs": [],
   "source": [
    "# Gráfico de pdf y cdf\n"
   ]
  },
  {
   "cell_type": "markdown",
   "metadata": {},
   "source": [
    "📌 **Características clave:**\n",
    "- Modela **tiempo de espera** hasta el siguiente evento.\n",
    "- Propiedad \"sin memoria\".\n",
    "- La media es \\(1/\\lambda\\).\n",
    "- Ejemplos: tiempo entre llegadas de clientes, vida útil de un componente electrónico.\n",
    "\n",
    "**Pistas para identificarla:**\n",
    "- Se habla de **tiempo hasta que ocurre algo**.\n",
    "- Eventos ocurren a **tasa constante** en el tiempo.\n",
    "- Valores cercanos a cero son más probables.\n"
   ]
  },
  {
   "cell_type": "markdown",
   "metadata": {},
   "source": [
    "### 2.3. Distribución normal\n",
    "\n",
    "1. Parámetros: $\\mu,\\sigma$\n",
    "2. Soporte: $(-\\infty, \\infty)$\n",
    "3. Notación: $\\text{Normal}(\\mu,\\sigma^2)$\n",
    "4. pdf:\n",
    "  $$\n",
    "  p(x)= \\frac{1}{\\sqrt{2 \\pi \\sigma^2}} \\exp\\left\\{-\\frac{(x - \\mu)^2}{2 \\sigma^2}\\right\\}.\n",
    "  $$\n",
    "5. cdf: No tenemos una fórmula cerrada para la cdf de una distribución normal. Esta involucra un cálculo numérico que antes era común buscar en tablas, y al día de hoy podemos usar software.\n",
    "6. Modela: error de medición, altura, promedios de grandes cantidades de datos.\n",
    "\n",
    "**Ejemplo.** Promedio de temperatura en una zona cerca del Ecuador."
   ]
  },
  {
   "cell_type": "code",
   "execution_count": null,
   "metadata": {},
   "outputs": [],
   "source": []
  },
  {
   "cell_type": "code",
   "execution_count": null,
   "metadata": {},
   "outputs": [],
   "source": []
  },
  {
   "cell_type": "code",
   "execution_count": null,
   "metadata": {},
   "outputs": [],
   "source": [
    "# Gráfico de pdf y cdf\n"
   ]
  },
  {
   "cell_type": "markdown",
   "metadata": {},
   "source": [
    "📌 **Características clave:**\n",
    "- Forma de campana: simétrica alrededor de la media \\(\\mu\\).\n",
    "- Controlada por la media (\\(\\mu\\)) y desviación estándar (\\(\\sigma\\)).\n",
    "- Ejemplos: estaturas, puntuaciones de exámenes, errores de medición.\n",
    "\n",
    "**Pistas para identificarla:**\n",
    "- Datos simétricos y concentrados en torno a un valor central.\n",
    "- Fenómenos que resultan de la suma de muchas variables pequeñas.\n"
   ]
  },
  {
   "cell_type": "markdown",
   "metadata": {},
   "source": [
    "### Ejemplo:\n",
    "\n",
    "Lee cada situación y determina:\n",
    "1. Qué distribución continua es la más apropiada (Uniforme, Exponencial o Normal).\n",
    "2. Cuáles son sus parámetros (mínimo y máximo; media y desviación estándar; o tasa/λ según el caso).\n",
    "3. Explica brevemente tu razonamiento.\n",
    "\n",
    "---\n",
    "\n",
    "#### Ejercicio 1\n",
    "La duración de una llamada en un centro de atención al cliente se modela con un promedio de 6 minutos y ocurre que las llamadas muy largas son poco probables.\n",
    "\n",
    "---\n",
    "\n",
    "#### Ejercicio 2\n",
    "La estatura de los estudiantes de una universidad sigue un patrón simétrico y con forma de campana, con media de 1.72 m y desviación estándar de 0.08 m.\n",
    "\n",
    "---\n",
    "\n",
    "#### Ejercicio 3\n",
    "Un sensor mide la temperatura ambiente y se sabe que en cierto día oscila uniformemente entre 20 °C y 28 °C, siendo cualquier valor dentro de ese rango igual de probable.\n",
    "\n",
    "---\n",
    "\n",
    "#### Ejercicio 4\n",
    "El tiempo (en horas) que pasa hasta que llega el siguiente cliente a una cafetería sigue una tasa promedio de 5 clientes por hora.\n",
    "\n",
    "---\n",
    "\n",
    "#### Ejercicio 5\n",
    "El peso de tomates en un lote se aproxima por una distribución con media de 150 g y desviación estándar de 15 g, con forma de campana.\n",
    "\n",
    "---\n",
    "\n",
    "#### Ejercicio 6\n",
    "Un generador de números aleatorios devuelve valores igualmente probables entre 0 y 1.\n",
    "\n",
    "---\n",
    "\n",
    "**Espacio para respuestas:**\n",
    "\n",
    "| Ejercicio | Distribución | Parámetros | Justificación breve |\n",
    "|-----------|--------------|------------|---------------------|\n",
    "| 1         |              |            |                     |\n",
    "| 2         |              |            |                     |\n",
    "| 3         |              |            |                     |\n",
    "| 4         |              |            |                     |\n",
    "| 5         |              |            |                     |\n",
    "| 6         |              |            |                     |"
   ]
  },
  {
   "cell_type": "markdown",
   "metadata": {},
   "source": [
    "## 🔍 Diagrama de decisión rápido\n",
    "\n",
    "     ¿Valores dentro de un rango [a,b] con igual probabilidad?\n",
    "                  ├── Sí → Uniforme\n",
    "                  └── No\n",
    "     ¿Se modela tiempo o distancia hasta un evento?\n",
    "                  ├── Sí, con tasa constante → Exponencial\n",
    "                  └── No\n",
    "     ¿Forma de campana y simétrica?\n",
    "                  ├── Sí → Normal\n",
    "                  └── Requiere otro modelo\n"
   ]
  },
  {
   "cell_type": "markdown",
   "metadata": {},
   "source": [
    "## 2. Estadísticos: Valor esperado y varianza\n",
    "Una de las operaciones más importantes con probabilidades es la de encontrar promedios ponderados de funciones. El **valor esperado** de una función $f(x)$ respecto a una distribución $p(x)$, denotado por $\\mathbb{E}_p[f]$, está dado por:\n",
    "\n",
    "- Para una distribución continua:\n",
    "  \n",
    "  $$\n",
    "  \\mathbb{E}_p[f] = \\int p(x)f(x) \\mathrm{d}x.\n",
    "  $$\n",
    "El valor esperado es una *medida de tendencia central*, en el sentido que nos da un valor hacia el cual tiende a agruparse los datos. Una medida de la variabilidad al rededor del valor esperado es **la varianza**, denotada por $\\mathrm{var}_p[f]$, que está definida por:\n",
    "\n",
    "$$\n",
    "\\mathrm{var}_p[f] = \\mathbb{E}_p[(f(x) - \\mathbb{E}_p[f])^2] = \\mathbb{E}_p[f(x)^2] - \\mathbb{E}_p[f]^2.\n",
    "$$\n"
   ]
  },
  {
   "cell_type": "markdown",
   "metadata": {},
   "source": [
    "### Ejemplos: Distribuciones normales con diferentes medias, y varianzas"
   ]
  },
  {
   "cell_type": "code",
   "execution_count": null,
   "metadata": {},
   "outputs": [],
   "source": [
    "# Definir varias VA normal\n"
   ]
  },
  {
   "cell_type": "code",
   "execution_count": null,
   "metadata": {},
   "outputs": [],
   "source": [
    "# Gráfico de pdf y cdf\n"
   ]
  },
  {
   "cell_type": "markdown",
   "metadata": {},
   "source": [
    "### Propiedes de la distribución normal\n",
    "\n",
    "Si $X \\sim \\text{Normal}(\\mu, \\sigma^2)$, entonces:\n",
    "\n",
    "- El valor esperado de $X$ coincide con $\\mu$:\n",
    "  $$\n",
    "  \\mathbb{E}_p[X] = \\mu.\n",
    "  $$\n",
    "\n",
    "- La varianza $X$ coincide con $\\sigma^2$:\n",
    "  $$\n",
    "  \\mathrm{var}_p[X] = \\sigma^2\n",
    "  $$"
   ]
  },
  {
   "cell_type": "markdown",
   "metadata": {},
   "source": [
    "# Anuncios parroquiales\n",
    "\n",
    "### 1. Quiz la siguiente clase.\n",
    "### 2. [Lectura recomendada](https://ocw.mit.edu/courses/18-05-introduction-to-probability-and-statistics-spring-2022/mit18_05_s22_class06-prep-b.pdf)\n",
    "### 2. Tarea 1 para el sábado 14 de septiembre."
   ]
  },
  {
   "cell_type": "markdown",
   "metadata": {},
   "source": [
    "<script>\n",
    "  $(document).ready(function(){\n",
    "    $('div.prompt').hide();\n",
    "    $('div.back-to-top').hide();\n",
    "    $('nav#menubar').hide();\n",
    "    $('.breadcrumb').hide();\n",
    "    $('.hidden-print').hide();\n",
    "  });\n",
    "</script>\n",
    "\n",
    "<footer id=\"attribution\" style=\"float:right; color:#808080; background:#fff;\">\n",
    "Created with Jupyter by Esteban Jiménez Rodríguez.\n",
    "</footer>"
   ]
  }
 ],
 "metadata": {
  "kernelspec": {
   "display_name": "mebo2024_v4",
   "language": "python",
   "name": "python3"
  },
  "language_info": {
   "codemirror_mode": {
    "name": "ipython",
    "version": 3
   },
   "file_extension": ".py",
   "mimetype": "text/x-python",
   "name": "python",
   "nbconvert_exporter": "python",
   "pygments_lexer": "ipython3",
   "version": "3.9.19"
  }
 },
 "nbformat": 4,
 "nbformat_minor": 2
}
