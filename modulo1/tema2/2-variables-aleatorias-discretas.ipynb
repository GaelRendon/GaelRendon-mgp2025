{
 "cells": [
  {
   "cell_type": "markdown",
   "metadata": {},
   "source": [
    "# Variables Aleatorias Discretas\n",
    "\n",
    "<img style=\"float: right; margin: 0px 0px 15px 15px;\" src=\"https://storage.needpix.com/rsynced_images/bayesian-2889576_1280.png\" width=\"200px\" height=\"180px\" />\n",
    "\n",
    "> Habiendo estudiado el repaso de teoría de probabilidad, empezaremos por estudiar variables aleatorias discretas.\n",
    "\n",
    "\n",
    "> **Objetivos:**\n",
    "> - Repasar la definición de variables aleatorias discretas.\n",
    "> - Repasar las variabels aleatorias de Bernoulli, binomial y geométricas, y los fenómenos que modelan.\n",
    "> - Definir la función de masa de probabilidad y la función de distribución acumulada, usando tablas o fórmulas.\n",
    "> - Definir el valor esperado (media) de una VA discreta.\n",
    "\n",
    "\n",
    "> **Referencias:**\n",
    "> \n",
    "> - Pattern Recognition and Machine Learning, by Christopher M. Bishop. Cap 1.2.\n",
    "> - https://ocw.mit.edu/courses/18-05-introduction-to-probability-and-statistics-spring-2022/mit18_05_s22_probability.pdf\n",
    "\n",
    "\n",
    "<p style=\"text-align:right;\"> Imagen recuperada de: https://storage.needpix.com/rsynced_images/bayesian-2889576_1280.png.</p>\n",
    "\n",
    "___"
   ]
  },
  {
   "cell_type": "markdown",
   "metadata": {},
   "source": [
    "## 0. Recap\n",
    "\n",
    "- Un espacio muestral discreto $\\Omega$ es un conjunto finito o enumerable de resultados $\\Omega = \\{\\omega_1, \\omega_2, \\dots\\}$.\n",
    "\n",
    "- La probabilidad de un resultado $\\omega$ es $p(\\omega)$.\n",
    "\n",
    "- Un evento $E$ es un subconjunto de $\\Omega$. La probabilidad de un evento $E$ es $p(E) = \\sum_{\\omega \\in E} p(\\omega)$."
   ]
  },
  {
   "cell_type": "markdown",
   "metadata": {},
   "source": [
    "## 1. Variables aleatorias (VA) discretas\n",
    "\n",
    "**Definición.** Sea $\\Omega$ un espacio muestral discreto. Una VA discreta es una función\n",
    "\n",
    "$$\n",
    "X: \\Omega \\to \\mathbb{R}.\n",
    "$$"
   ]
  },
  {
   "cell_type": "markdown",
   "metadata": {},
   "source": [
    "\n",
    "**Ejemplo.** Supongamos que jugamos con dos dados.\n",
    "\n",
    "Al tirarlos, los resultados son:\n",
    "\n",
    "$$\n",
    "\\Omega = \\{(i,j): i,j=1, 2, \\dots, 6\\}.\n",
    "$$\n",
    "\n",
    "La función de probabilidad, si los dados son justos, es $p(i, j) = \\frac{1}{36}$.\n",
    "\n",
    "Supongamos que estamos en un juego, donde ganamos $500 si la suma de $i$ y $j$ es 7. Caso contrario perdemos $100. Podemos definir una VA discreta con esta función de pago:\n",
    "\n",
    "$$\n",
    "X(i,j) = \\left\\lbrace\n",
    "\\begin{array}{lc}\n",
    "500  &  \\text{if } i+j=7 \\\\ \n",
    "-100 &  \\text{if } i+j\\neq7\n",
    "\\end{array}\n",
    "\\right .\n",
    "$$"
   ]
  },
  {
   "cell_type": "markdown",
   "metadata": {},
   "source": [
    "![dice](https://upload.wikimedia.org/wikipedia/commons/thumb/c/c4/2-Dice-Icon.svg/600px-2-Dice-Icon.svg.png)"
   ]
  },
  {
   "cell_type": "markdown",
   "metadata": {},
   "source": [
    "**Definición.** La función de masa de probabilidad (pmf por sus siglas en inglés) de una VA discreta es la función $p(a) = p(X=a)$.\n",
    "\n",
    "Es fácil notar que:\n",
    "\n",
    "- $0 \\leq p(a) \\leq 1$.\n",
    "- $a$ puede ser cualquier número. Si $a$ es un número que $X$ nunca toma, entonces $p(a)=0$."
   ]
  },
  {
   "cell_type": "markdown",
   "metadata": {},
   "source": [
    "**Ejemplo.** Consideramos el tiro de un solo dado. El dado está cargado, de modo que solo salen los valores $1$, $5$ y $6$, y de modo que la función de probabilidad sea:\n",
    "$$\n",
    "p(X) = \\left\\{\\begin{array}{cc }0.3 & X=1 \\\\ 0.3 & X=5 \\\\ 0.4 & X=6\\end{array}\\right.\n",
    "$$"
   ]
  },
  {
   "cell_type": "code",
   "execution_count": 1,
   "metadata": {},
   "outputs": [],
   "source": [
    "# Importar scipy.stats\n",
    "from scipy import stats"
   ]
  },
  {
   "cell_type": "code",
   "execution_count": 2,
   "metadata": {},
   "outputs": [],
   "source": [
    "# Definir listas de valores de X y probabilidades asociadas\n",
    "X = stats.rv_discrete(\n",
    "    name='X', \n",
    "    values=([1, 2, 3, 4, 5, 6], [0.3, 0, 0, 0, 0.3, 0.4])\n",
    ")\n",
    "\n",
    "# Equivalentemente\n",
    "X = stats.rv_discrete(\n",
    "    name='X', \n",
    "    values=([1, 5, 6], [0.3, 0.3, 0.4])\n",
    ")"
   ]
  },
  {
   "cell_type": "code",
   "execution_count": 3,
   "metadata": {},
   "outputs": [],
   "source": [
    "from matplotlib import pyplot as plt\n",
    "import numpy as np\n",
    "\n",
    "x = np.arange(-3, 10)"
   ]
  },
  {
   "cell_type": "code",
   "execution_count": 4,
   "metadata": {},
   "outputs": [
    {
     "data": {
      "text/plain": [
       "<matplotlib.collections.LineCollection at 0x1ee3bd8de20>"
      ]
     },
     "execution_count": 4,
     "metadata": {},
     "output_type": "execute_result"
    },
    {
     "data": {
      "image/png": "[encoded data removed]",
      "text/plain": [
       "<Figure size 640x480 with 1 Axes>"
      ]
     },
     "metadata": {},
     "output_type": "display_data"
    }
   ],
   "source": [
    "# Grafico\n",
    "plt.plot(\n",
    "    x,\n",
    "    X.pmf(x),\n",
    "    'or',\n",
    "    ms=10\n",
    ")\n",
    "plt.vlines(x, 0, X.pmf(x), colors='r', lw=5)\n",
    "#plt.plot(x, np.zeros(len(x)), color='r')"
   ]
  },
  {
   "cell_type": "markdown",
   "metadata": {},
   "source": [
    "**Definición.** La función de distribución acumulada (cdf por sus siglas en inglés) de una VA discreta $X$ es la función $F$ dada por $F(a) = p(X \\leq a)$.\n",
    "\n",
    "**Ejemplo.** Considerando el ejemplo anterior, tenemos que:\n",
    "\n",
    "|  x  |  1  |  2  |  3  |  4  |  5  |  6  |\n",
    "| --- | --- | --- | --- | --- | --- | --- |\n",
    "| p(x)| 0.3 |  0  |  0  |  0  | 0.3 | 0.4 |\n",
    "| F(x)| 0.3 | 0.3 | 0.3 | 0.3 | 0.6 |  1  |"
   ]
  },
  {
   "cell_type": "markdown",
   "metadata": {},
   "source": [
    "**Propiedades:**\n",
    "\n",
    "- $F$ es no decreciente. Es decir, su gráfica nunca decrece.\n",
    "- $0 \\leq F(a) \\leq 1$.\n",
    "- $\\lim_{a \\to \\infty} F(a) = 1$.\n",
    "- $\\lim_{a \\to -\\infty} F(a) = 0$."
   ]
  },
  {
   "cell_type": "code",
   "execution_count": 5,
   "metadata": {},
   "outputs": [
    {
     "data": {
      "text/plain": [
       "[<matplotlib.lines.Line2D at 0x1ee3dc16730>]"
      ]
     },
     "execution_count": 5,
     "metadata": {},
     "output_type": "execute_result"
    },
    {
     "data": {
      "image/png": "[encoded data removed]",
      "text/plain": [
       "<Figure size 640x480 with 1 Axes>"
      ]
     },
     "metadata": {},
     "output_type": "display_data"
    }
   ],
   "source": [
    "# Grafico\n",
    "plt.plot(\n",
    "    x,\n",
    "    X.cdf(x),\n",
    "    'b'\n",
    ")"
   ]
  },
  {
   "cell_type": "code",
   "execution_count": 6,
   "metadata": {},
   "outputs": [
    {
     "data": {
      "text/plain": [
       "(0.0, 1.0)"
      ]
     },
     "execution_count": 6,
     "metadata": {},
     "output_type": "execute_result"
    }
   ],
   "source": [
    "X.cdf(-np.inf), X.cdf(np.inf)"
   ]
  },
  {
   "cell_type": "markdown",
   "metadata": {},
   "source": [
    "## 2. Distribuciones específicas"
   ]
  },
  {
   "cell_type": "markdown",
   "metadata": {},
   "source": [
    "### 2.1. Distribución de Bernoulli\n",
    "\n",
    "La distribución de Bernoulli modela una ejecución de un experimento con dos posibles resultados, normalmente denominados éxito y fracaso. Es una de las distribuciones más importantes, y a la vez la más simple.\n",
    "\n",
    "Decimos que una VA $X$ sigue una distribución de Bernoulli con parámtro $p$ si:\n",
    "\n",
    "- $X$ solo puede tomar los valores $0$ y $1$.\n",
    "- $p(X=1) = p$ y $p(X=0)=1-p$.\n",
    "\n",
    "Denotamos esto como $X \\sim \\text{Bernoulli}(p)$.\n",
    "\n",
    "**Ejemplos.** Con la distribución de Bernoulli se pueden modelar los siguientes fenómenos.\n",
    "\n",
    "- Tiro de una moneda. $p$ es la proporción de veces que cae cara.\n",
    "- Votos a favor de una propuesta. $p$ es la proporción de votos a favor de la propuesta.\n",
    "- En un clasificador binario, normalmente la salida la modelamos con una VA de Bernoulli, con parámetro desconocido."
   ]
  },
  {
   "cell_type": "code",
   "execution_count": 7,
   "metadata": {},
   "outputs": [],
   "source": [
    "bernoulli = stats.bernoulli(p=0.3)"
   ]
  },
  {
   "cell_type": "code",
   "execution_count": 8,
   "metadata": {},
   "outputs": [],
   "source": [
    "x = np.arange(-2, 5, 1)"
   ]
  },
  {
   "cell_type": "code",
   "execution_count": 9,
   "metadata": {},
   "outputs": [
    {
     "data": {
      "text/plain": [
       "<matplotlib.collections.LineCollection at 0x1ee3dc518e0>"
      ]
     },
     "execution_count": 9,
     "metadata": {},
     "output_type": "execute_result"
    },
    {
     "data": {
      "image/png": "[encoded data removed]",
      "text/plain": [
       "<Figure size 640x480 with 1 Axes>"
      ]
     },
     "metadata": {},
     "output_type": "display_data"
    }
   ],
   "source": [
    "# Grafico\n",
    "plt.plot(\n",
    "    x,\n",
    "    bernoulli.pmf(x),\n",
    "    'or',\n",
    "    ms=10\n",
    ")\n",
    "plt.vlines(x, 0, bernoulli.pmf(x), colors='r', lw=5)"
   ]
  },
  {
   "cell_type": "code",
   "execution_count": 10,
   "metadata": {},
   "outputs": [
    {
     "data": {
      "text/plain": [
       "[<matplotlib.lines.Line2D at 0x1ee3dd19760>]"
      ]
     },
     "execution_count": 10,
     "metadata": {},
     "output_type": "execute_result"
    },
    {
     "data": {
      "image/png": "[encoded data removed]",
      "text/plain": [
       "<Figure size 640x480 with 1 Axes>"
      ]
     },
     "metadata": {},
     "output_type": "display_data"
    }
   ],
   "source": [
    "# Grafico\n",
    "plt.plot(\n",
    "    x,\n",
    "    bernoulli.cdf(x),\n",
    "    'b'\n",
    ")"
   ]
  },
  {
   "cell_type": "markdown",
   "metadata": {},
   "source": [
    "📌 **Características clave:**\n",
    "- Un solo ensayo con dos resultados posibles: **éxito** o **fracaso**.\n",
    "- Se define únicamente por la probabilidad de éxito \\(p\\).\n",
    "- Ejemplos: lanzar una moneda una vez, verificar si un producto está defectuoso.\n",
    "\n",
    "**Pistas para identificarla:**\n",
    "- Solo hay **un intento**.\n",
    "- El resultado es dicotómico (sí/no, éxito/fracaso, 1/0).\n"
   ]
  },
  {
   "cell_type": "markdown",
   "metadata": {},
   "source": [
    "### 2.2. Distribución Binomial\n",
    "\n",
    "La distribución binomial, $\\text{Binomial}(n, p)$, modela el número de éxitos en $n$ tiros independientes de un experimento $\\text{Bernoulli}(p)$.\n",
    "\n",
    "Es decir, un solo experimento de Bernoulli corresponde, por ejemplo, al tiro de una moneda. Un solo experimento Binomial consiste de $n$ experimentos de Bernoulli.\n",
    "\n",
    "El espacio de resultados de Bernoulli es $\\{0, 1\\}$. El espacio de resultados de Binomial son secuencias de longitud $n$ de ceros y/o unos.\n",
    "\n",
    "Mientras que una VA de Bernoulli puede tomar valores $0$ o $1$, una VA binomial puede tomar valores $0, 1, \\dots, n$.\n",
    "\n",
    "Denotamos esto como $X \\sim \\text{Binomial}(n, p)$.\n",
    "\n",
    "La pmf de una distribución binomial es:\n",
    "\n",
    "$$\n",
    "p(a) = \\left(\\begin{array}{c}n \\\\ a \\end{array}\\right) p^a (1 - p)^{n-a}\n",
    "$$"
   ]
  },
  {
   "cell_type": "markdown",
   "metadata": {},
   "source": [
    "Si hacemos $n=1$, $\\text{Binomial}(1, p) = \\text{Bernoulli}(p)$."
   ]
  },
  {
   "cell_type": "markdown",
   "metadata": {},
   "source": [
    "**Ejemplo.** Grafiquemos algunas distribuciones binomiales:"
   ]
  },
  {
   "cell_type": "code",
   "execution_count": 11,
   "metadata": {},
   "outputs": [],
   "source": [
    "n = 1000\n",
    "p = 0.8\n",
    "binomial = stats.binom(n=n, p=p)"
   ]
  },
  {
   "cell_type": "code",
   "execution_count": 12,
   "metadata": {},
   "outputs": [],
   "source": [
    "x = np.arange(-20, 1050, 1)"
   ]
  },
  {
   "cell_type": "code",
   "execution_count": 13,
   "metadata": {},
   "outputs": [
    {
     "data": {
      "text/plain": [
       "[<matplotlib.lines.Line2D at 0x1ee3de21c70>]"
      ]
     },
     "execution_count": 13,
     "metadata": {},
     "output_type": "execute_result"
    },
    {
     "data": {
      "image/png": "[encoded data removed]",
      "text/plain": [
       "<Figure size 640x480 with 1 Axes>"
      ]
     },
     "metadata": {},
     "output_type": "display_data"
    }
   ],
   "source": [
    "# Grafico\n",
    "plt.plot(\n",
    "    x,\n",
    "    binomial.pmf(x),\n",
    "    'or',\n",
    "    ms=10\n",
    ")\n",
    "#plt.vlines(x, 0, binomial.pmf(x), colors='r', lw=5)"
   ]
  },
  {
   "cell_type": "code",
   "execution_count": 14,
   "metadata": {},
   "outputs": [
    {
     "data": {
      "text/plain": [
       "[<matplotlib.lines.Line2D at 0x1ee3de9e790>]"
      ]
     },
     "execution_count": 14,
     "metadata": {},
     "output_type": "execute_result"
    },
    {
     "data": {
      "image/png": "[encoded data removed]",
      "text/plain": [
       "<Figure size 640x480 with 1 Axes>"
      ]
     },
     "metadata": {},
     "output_type": "display_data"
    }
   ],
   "source": [
    "plt.plot(\n",
    "    x,\n",
    "    binomial.cdf(x),\n",
    "    'b'\n",
    ")"
   ]
  },
  {
   "cell_type": "code",
   "execution_count": 15,
   "metadata": {},
   "outputs": [],
   "source": [
    "# Grafico\n"
   ]
  },
  {
   "cell_type": "code",
   "execution_count": 16,
   "metadata": {},
   "outputs": [],
   "source": [
    "# Grafico\n"
   ]
  },
  {
   "cell_type": "markdown",
   "metadata": {},
   "source": [
    "📌 **Características clave:**\n",
    "- Número fijo de ensayos \\(n\\), independientes y con la misma probabilidad de éxito \\(p\\).\n",
    "- La variable es el **número de éxitos** obtenidos en los \\(n\\) ensayos.\n",
    "- Ejemplos: número de caras al lanzar una moneda 10 veces, cantidad de clientes que compran en un día.\n",
    "\n",
    "**Pistas para identificarla:**\n",
    "- Hay **varios intentos** (\\(n > 1\\)) y son independientes.\n",
    "- Mismo valor de \\(p\\) en cada ensayo.\n",
    "- La variable aleatoria cuenta cuántos éxitos ocurren.\n"
   ]
  },
  {
   "cell_type": "markdown",
   "metadata": {},
   "source": [
    "### 2.3. Distribución geométrica.\n",
    "\n",
    "La distribución geométrica modela el número de fracasos antes del primer éxito en una secuencia de experimentos de Bernoulli.\n",
    "\n",
    "La VA $X$ sigue una distribución geométrica con parámetro $p$ si,\n",
    "\n",
    "- $X$ toma los valores $0, 1, 2, \\dots$\n",
    "- Su pmf está dada por $p(a) = p (1 - p)^{a}$.\n",
    "\n",
    "La denotamos como $Geom(p)$."
   ]
  },
  {
   "cell_type": "markdown",
   "metadata": {},
   "source": [
    "**Ejemplo.** Grafiquemos algunas distribuciones geométricas:"
   ]
  },
  {
   "cell_type": "code",
   "execution_count": 17,
   "metadata": {},
   "outputs": [],
   "source": [
    "p = 0.2\n",
    "geometrica = stats.geom(p=p)"
   ]
  },
  {
   "cell_type": "code",
   "execution_count": 18,
   "metadata": {},
   "outputs": [],
   "source": [
    "x = np.arange(-2, 30, 1)"
   ]
  },
  {
   "cell_type": "code",
   "execution_count": 19,
   "metadata": {},
   "outputs": [
    {
     "data": {
      "text/plain": [
       "<matplotlib.collections.LineCollection at 0x1ee3dd2d1c0>"
      ]
     },
     "execution_count": 19,
     "metadata": {},
     "output_type": "execute_result"
    },
    {
     "data": {
      "image/png": "[encoded data removed]",
      "text/plain": [
       "<Figure size 640x480 with 1 Axes>"
      ]
     },
     "metadata": {},
     "output_type": "display_data"
    }
   ],
   "source": [
    "# Grafico\n",
    "plt.plot(\n",
    "    x,\n",
    "    geometrica.pmf(x),\n",
    "    'or',\n",
    "    ms=10\n",
    ")\n",
    "plt.vlines(x, 0, geometrica.pmf(x), colors='r', lw=5)"
   ]
  },
  {
   "cell_type": "code",
   "execution_count": 20,
   "metadata": {},
   "outputs": [
    {
     "data": {
      "text/plain": [
       "[<matplotlib.lines.Line2D at 0x1ee3dfaeaf0>]"
      ]
     },
     "execution_count": 20,
     "metadata": {},
     "output_type": "execute_result"
    },
    {
     "data": {
      "image/png": "[encoded data removed]",
      "text/plain": [
       "<Figure size 640x480 with 1 Axes>"
      ]
     },
     "metadata": {},
     "output_type": "display_data"
    }
   ],
   "source": [
    "# Grafico\n",
    "plt.plot(\n",
    "    x,\n",
    "    geometrica.cdf(x),\n",
    "    'b'\n",
    ")"
   ]
  },
  {
   "cell_type": "markdown",
   "metadata": {},
   "source": [
    "📌 **Características clave:**\n",
    "- Modela el número de ensayos **hasta el primer éxito**.\n",
    "- Probabilidad de éxito constante \\(p\\).\n",
    "- Ejemplos: cantidad de tiros libres necesarios hasta encestar, llamadas hasta contactar a un cliente.\n",
    "\n",
    "**Pistas para identificarla:**\n",
    "- Se cuentan los intentos hasta que ocurra un éxito por primera vez.\n",
    "- No se fija un número de ensayos de antemano.\n"
   ]
  },
  {
   "cell_type": "markdown",
   "metadata": {},
   "source": [
    "### Ejemplo:\n",
    "\n",
    "Lee cada situación y determina:\n",
    "1. Qué distribución es la más apropiada (Bernoulli, Binomial o Geométrica).\n",
    "2. Cuáles son sus parámetros (\\( p \\), \\( n \\) si aplica).\n",
    "3. Explica tu razonamiento.\n",
    "\n",
    "---\n",
    "\n",
    "#### Ejercicio 1\n",
    "En un control de calidad, un chip electrónico puede estar defectuoso o no. La probabilidad de que sea defectuoso es 0.015.\n",
    "\n",
    "---\n",
    "\n",
    "#### Ejercicio 2\n",
    "Un call center logra contactar al cliente que necesita en cada llamada con probabilidad 0.3. Se mide el número de llamadas necesarias hasta hablar con el cliente correcto.\n",
    "\n",
    "---\n",
    "\n",
    "#### Ejercicio 3\n",
    "En una encuesta, el 73.4% de los encuestados están a favor de la propuesta de semana laboral de 4 días. Se elige una persona al azar y se observa si está a favor.\n",
    "\n",
    "---\n",
    "\n",
    "#### Ejercicio 4\n",
    "La probabilidad de que un usuario haga clic en un anuncio en línea es 0.08. Se muestran 100 anuncios a distintos usuarios y se cuenta el total de clics.\n",
    "\n",
    "---\n",
    "\n",
    "#### Ejercicio 5\n",
    "En un juego de basketball, la probabilidad de encestar un tiro libre es 0.75. Se mide el número de intentos hasta encestar por primera vez.\n",
    "\n",
    "---\n",
    "\n",
    "#### Ejercicio 6\n",
    "El 2% de las botellas producidas presenta una falla en el sellado. Se inspeccionan 50 botellas seleccionadas aleatoriamente y se cuenta cuántas fallan.\n",
    "\n",
    "---\n",
    "\n",
    "**Espacio para respuestas:**\n",
    "\n",
    "| Ejercicio | Distribución | Parámetros    | Justificación breve |\n",
    "|-----------|--------------|---------------|---------------------|\n",
    "| 1         | Bernoulli    | p=0.015       |                     |\n",
    "| 2         | Geométrica   | p=0.3         |                     |\n",
    "| 3         | Bernoulli    | p=0.734       |                     |\n",
    "| 4         | Binomial     | n=100; p=0.08 |                     |\n",
    "| 5         | Geométrica   | p=0.75        |                     |\n",
    "| 6         | Binomial     | n=50; p=0.02  |                     |"
   ]
  },
  {
   "cell_type": "markdown",
   "metadata": {},
   "source": [
    "## 🔍 Diagrama de decisión rápido\n",
    "\n",
    "      ¿Solo un ensayo?\n",
    "            ├── Sí → Bernoulli\n",
    "            └── No\n",
    "      ¿Se fija n y se cuentan éxitos en n ensayos?\n",
    "            ├── Sí → Binomial\n",
    "            └── No\n",
    "      ¿Se cuentan intentos hasta el primer éxito?\n",
    "            ├── Sí → Geométrica\n",
    "            └── Requiere otro modelo"
   ]
  },
  {
   "cell_type": "markdown",
   "metadata": {},
   "source": [
    "# 3. Valor esperado y varianza.\n",
    "\n",
    "**Ejemplo.** Suponga que tiene un dado justo con cinco 3's y un 6. ¿Cuál esperaría que fuera el promedio de 6000 tiros?\n",
    "\n",
    "> Tablero.\n",
    "\n",
    "**Ejemplo.** Se tiran dos dados de seis caras. Si ganas $1000 si la suma es 2, y pierdes $100 de otro modo, ¿Cuánto esperas ganar en promedio por tiro?\n",
    "\n",
    "> Tablero."
   ]
  },
  {
   "cell_type": "markdown",
   "metadata": {},
   "source": [
    "Una de las operaciones más importantes con probabilidades es la de encontrar promedios ponderados de funciones. El **valor esperado** de una función $f(x)$ respecto a una distribución $p(x)$, denotado por $\\mathbb{E}_p[f]$, está dado por:\n",
    "\n",
    "- Para una distribución discreta:\n",
    "  \n",
    "  $$\n",
    "  \\mathbb{E}_p[f] = \\sum_x p(x)f(x).\n",
    "  $$\n",
    "\n",
    "Si queremos evaluar el Valor Esperado de la variable aleatoria como tal, tenemos que:\n",
    "\n",
    "$$\n",
    "\\mathbb{E}_p[X] = \\sum_x p(x)x.\n",
    "$$"
   ]
  },
  {
   "cell_type": "markdown",
   "metadata": {},
   "source": [
    "**Ejemplos.** Simular los promedios anteriores de forma numérica, y contrastarlos con el valor esperado."
   ]
  },
  {
   "cell_type": "code",
   "execution_count": null,
   "metadata": {},
   "outputs": [
    {
     "data": {
      "text/plain": [
       "3.5"
      ]
     },
     "execution_count": 21,
     "metadata": {},
     "output_type": "execute_result"
    }
   ],
   "source": [
    "# Primer caso\n",
    "X = stats.rv_discrete(\n",
    "    values=([3, 6], [5 / 6, 1 / 6])\n",
    ")\n",
    "# Valor esperado teórico\n",
    "valor_esperado_teorico = X.expect()  # 3 * 5 / 6 + 6 * 1 / 6\n",
    "valor_esperado_teorico"
   ]
  },
  {
   "cell_type": "code",
   "execution_count": 30,
   "metadata": {},
   "outputs": [],
   "source": [
    "n_muestras = 10000"
   ]
  },
  {
   "cell_type": "code",
   "execution_count": 31,
   "metadata": {},
   "outputs": [
    {
     "data": {
      "text/plain": [
       "<matplotlib.collections.LineCollection at 0x1ee3e210e80>"
      ]
     },
     "execution_count": 31,
     "metadata": {},
     "output_type": "execute_result"
    },
    {
     "data": {
      "image/png": "[encoded data removed]",
      "text/plain": [
       "<Figure size 640x480 with 1 Axes>"
      ]
     },
     "metadata": {},
     "output_type": "display_data"
    }
   ],
   "source": [
    "# Muestreamos la variable aleatoria\n",
    "muestras = X.rvs(size=n_muestras)\n",
    "# Obtenemos el promedio a medida que vamos obteniendo más muestras\n",
    "promedio_sucesivo = muestras.cumsum() / np.arange(1, n_muestras + 1)\n",
    "# Graficamos\n",
    "plt.plot(promedio_sucesivo)\n",
    "plt.hlines(valor_esperado_teorico, 0, n_muestras, colors='r', linestyles='dashed')"
   ]
  },
  {
   "cell_type": "code",
   "execution_count": 23,
   "metadata": {},
   "outputs": [],
   "source": [
    "# Segundo caso\n",
    "\n",
    "# Valor esperado teórico\n"
   ]
  },
  {
   "cell_type": "code",
   "execution_count": 24,
   "metadata": {},
   "outputs": [],
   "source": [
    "# Muestreamos la variable aleatoria\n",
    "\n",
    "# Obtenemos el promedio a medida que vamos obteniendo más muestras\n",
    "\n",
    "# Graficamos\n"
   ]
  },
  {
   "cell_type": "markdown",
   "metadata": {},
   "source": [
    "El valor esperado es una *medida de tendencia central*, en el sentido que nos da un valor hacia el cual tiende a agruparse los datos. Una medida de la variabilidad al rededor del valor esperado es **la varianza**, denotada por $\\mathrm{var}_p[f]$, que está definida por:\n",
    "\n",
    "$$\n",
    "\\mathrm{var}_p[f] = \\mathbb{E}_p[(f(x) - \\mathbb{E}_p[f])^2] = \\mathbb{E}_p[f(x)^2] - \\mathbb{E}_p[f]^2.\n",
    "$$"
   ]
  },
  {
   "cell_type": "code",
   "execution_count": 32,
   "metadata": {},
   "outputs": [
    {
     "data": {
      "text/plain": [
       "1.25"
      ]
     },
     "execution_count": 32,
     "metadata": {},
     "output_type": "execute_result"
    }
   ],
   "source": [
    "# Varianza en el primer caso (X toma valores entre 3 y 6 // Valor esperado es 3.5)\n",
    "X.var()"
   ]
  },
  {
   "cell_type": "code",
   "execution_count": 33,
   "metadata": {},
   "outputs": [
    {
     "data": {
      "text/plain": [
       "-69.44444444444444"
      ]
     },
     "execution_count": 33,
     "metadata": {},
     "output_type": "execute_result"
    }
   ],
   "source": [
    "Y = stats.rv_discrete(\n",
    "    values=([1000, -100], [1 / 36, 35 / 36])\n",
    ")\n",
    "Y.expect()"
   ]
  },
  {
   "cell_type": "code",
   "execution_count": 34,
   "metadata": {},
   "outputs": [
    {
     "data": {
      "text/plain": [
       "32677.46913580247"
      ]
     },
     "execution_count": 34,
     "metadata": {},
     "output_type": "execute_result"
    }
   ],
   "source": [
    "# Varianza en el segundo caso (Y toma valores entre -100 y 1000 // Valor esperado es -69.44)\n",
    "Y.var()"
   ]
  },
  {
   "cell_type": "markdown",
   "metadata": {},
   "source": [
    "Si queremos una medida que nos de un sentido de dispersión en las \"mismas unidades\" de la variable aleatoria, podemos acudir a la desviación estándar, que se define como:\n",
    "\n",
    "$$\n",
    "\\text{std}_p[f] = \\sqrt{\\text{var}_p[f]}\n",
    "$$"
   ]
  },
  {
   "cell_type": "code",
   "execution_count": 35,
   "metadata": {},
   "outputs": [
    {
     "data": {
      "text/plain": [
       "1.118033988749895"
      ]
     },
     "execution_count": 35,
     "metadata": {},
     "output_type": "execute_result"
    }
   ],
   "source": [
    "# Desviación estándar en el primer caso (X toma valores entre 3 y 6 // Valor esperado es 3.5)\n",
    "X.std()"
   ]
  },
  {
   "cell_type": "code",
   "execution_count": 36,
   "metadata": {},
   "outputs": [
    {
     "data": {
      "text/plain": [
       "180.76910448359936"
      ]
     },
     "execution_count": 36,
     "metadata": {},
     "output_type": "execute_result"
    }
   ],
   "source": [
    "# Desviación estándar en el segundo caso (Y toma valores entre -100 y 1000 // Valor esperado es -69.44)\n",
    "Y.std()"
   ]
  },
  {
   "cell_type": "markdown",
   "metadata": {},
   "source": [
    "# Anuncios parroquiales\n",
    "\n",
    "### 1. Revisar la siguiente [app](https://mathlets.org/mathlets/probability-distributions/).\n",
    "### 2. Ya pueden hacer el ejercicio 4 de la tarea."
   ]
  },
  {
   "cell_type": "markdown",
   "metadata": {},
   "source": [
    "<script>\n",
    "  $(document).ready(function(){\n",
    "    $('div.prompt').hide();\n",
    "    $('div.back-to-top').hide();\n",
    "    $('nav#menubar').hide();\n",
    "    $('.breadcrumb').hide();\n",
    "    $('.hidden-print').hide();\n",
    "  });\n",
    "</script>\n",
    "\n",
    "<footer id=\"attribution\" style=\"float:right; color:#808080; background:#fff;\">\n",
    "Created with Jupyter by Esteban Jiménez Rodríguez.\n",
    "</footer>"
   ]
  }
 ],
 "metadata": {
  "kernelspec": {
   "display_name": "meb2025_v4",
   "language": "python",
   "name": "python3"
  },
  "language_info": {
   "codemirror_mode": {
    "name": "ipython",
    "version": 3
   },
   "file_extension": ".py",
   "mimetype": "text/x-python",
   "name": "python",
   "nbconvert_exporter": "python",
   "pygments_lexer": "ipython3",
   "version": "3.9.23"
  }
 },
 "nbformat": 4,
 "nbformat_minor": 2
}
